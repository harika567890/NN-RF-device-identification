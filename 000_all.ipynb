{
 "cells": [
  {
   "cell_type": "code",
   "execution_count": 1,
   "id": "115efca4",
   "metadata": {},
   "outputs": [
    {
     "name": "stderr",
     "output_type": "stream",
     "text": [
      "/Users/yoshihiro/opt/anaconda3/envs/device/lib/python3.9/site-packages/scipy/__init__.py:146: UserWarning: A NumPy version >=1.16.5 and <1.23.0 is required for this version of SciPy (detected version 1.23.1\n",
      "  warnings.warn(f\"A NumPy version >={np_minversion} and <{np_maxversion}\"\n"
     ]
    }
   ],
   "source": [
    "import numpy as np\n",
    "import math\n",
    "import cmath\n",
    "import tensorflow as tf\n",
    "import random\n",
    "import tqdm\n",
    "import matplotlib.pyplot as plt\n",
    "plt.rcParams['font.family'] = 'Hiragino Sans'"
   ]
  },
  {
   "cell_type": "code",
   "execution_count": 2,
   "id": "4dfb533f",
   "metadata": {},
   "outputs": [],
   "source": [
    "#IQを付与したデータの作成"
   ]
  },
  {
   "cell_type": "code",
   "execution_count": 3,
   "id": "ba7efde8",
   "metadata": {},
   "outputs": [],
   "source": [
    "# def iq_imbalance(pha , amp):\n",
    "#     delta_tem = np.random.beta(5, 2)\n",
    "#     delta_tam = delta_tem * (np.pi / 180) * pha\n",
    "    \n",
    "#     epsilon_tem = np.random.beta(5, 2)\n",
    "#     epsilon_tam = amp * epsilon_tem\n",
    "            \n",
    "#     return delta_tam, epsilon_tam"
   ]
  },
  {
   "cell_type": "code",
   "execution_count": 4,
   "id": "610b1a3b",
   "metadata": {},
   "outputs": [],
   "source": [
    "# #デバイス数\n",
    "# N = 8\n",
    "# #IQ-imbalanceのパラメータ\n",
    "# pha=20\n",
    "# amp=0.3\n",
    "# #パラメータ保存用のリスト\n",
    "# delta = np.empty((0, 1))\n",
    "# epsilon = np.empty((0, 1))\n",
    "\n",
    "# for i in range(N):\n",
    "#     delta_tam , epsilon_tam = iq_imbalance(pha , amp)\n",
    "    \n",
    "#     delta = np.append(delta, delta_tam)\n",
    "#     epsilon = np.append(epsilon, epsilon_tam)"
   ]
  },
  {
   "cell_type": "code",
   "execution_count": 5,
   "id": "aae41963",
   "metadata": {},
   "outputs": [],
   "source": [
    "# delta , epsilon"
   ]
  },
  {
   "cell_type": "code",
   "execution_count": 6,
   "id": "bb4424b9",
   "metadata": {},
   "outputs": [],
   "source": [
    "# #受信語データ保存\n",
    "# np.savez(f'delta_and_epsilon.npz', delta, epsilon)"
   ]
  },
  {
   "cell_type": "code",
   "execution_count": 7,
   "id": "79677d9a",
   "metadata": {},
   "outputs": [],
   "source": [
    "#受信語データ保存\n",
    "npz = np.load('delta_and_epsilon.npz')\n",
    "\n",
    "#データの格納\n",
    "delta = npz['arr_0']\n",
    "epsilon = npz['arr_1']"
   ]
  },
  {
   "cell_type": "code",
   "execution_count": 8,
   "id": "1c352ba2",
   "metadata": {},
   "outputs": [],
   "source": [
    "#学習データの生成"
   ]
  },
  {
   "cell_type": "code",
   "execution_count": 9,
   "id": "1e3f4389",
   "metadata": {},
   "outputs": [],
   "source": [
    "def message(a, b):\n",
    "    \n",
    "    if a == 2:\n",
    "        #qpsk\n",
    "        #メッセージ生成\n",
    "        if b%4==0:\n",
    "            message = np.array([[0, 0]])\n",
    "        elif b%4==1:\n",
    "            message = np.array([[0, 1]])\n",
    "        elif b%4==2:\n",
    "            message = np.array([[1, 0]])\n",
    "        elif b%4==3:\n",
    "            message = np.array([[1, 1]])\n",
    "        \n",
    "        #message = np.random.randint(0, 2, (1, a))\n",
    "        x = 1.0-2*(message[0][0])\n",
    "        y = 1.0-2*(message[0][1])\n",
    "        \n",
    "        s = (x + 1j * y)*(1.0/np.sqrt(2))\n",
    "        \n",
    "    return message, s"
   ]
  },
  {
   "cell_type": "code",
   "execution_count": 10,
   "id": "fff60a5c",
   "metadata": {},
   "outputs": [],
   "source": [
    "def device_symbols(delta , epsilon):\n",
    "    sym = np.empty(0)\n",
    "    for i in range(4):\n",
    "        m, s = message(2, i)\n",
    "        y_tmp = (1 + epsilon) * np.cos(delta) * s.real + (1 - epsilon) * np.sin(delta) * s.imag +1j * ((1 - epsilon) * np.cos(delta) * s.imag + (1 + epsilon) * np.sin(delta) * s.real)\n",
    "        sym = np.append(sym,[y_tmp],axis=0)\n",
    "    return sym "
   ]
  },
  {
   "cell_type": "code",
   "execution_count": 11,
   "id": "9fd78599",
   "metadata": {},
   "outputs": [],
   "source": [
    "# AWGN雑音の付与\n",
    "def add_awgn_noise(symbols, snr_db):\n",
    "    #信号電力の計算\n",
    "    signal_power = 1.0\n",
    "    #雑音電力の計算\n",
    "    noise_power = signal_power / (10**(snr_db / 10))\n",
    "    #雑音のリストを生成\n",
    "    noise_R = np.random.normal(0, np.sqrt(noise_power/2), symbols.shape)\n",
    "    noise_I = np.random.normal(0, np.sqrt(noise_power/2), symbols.shape)\n",
    "    noise = noise_R + 1j * noise_I\n",
    "\n",
    "    return symbols + noise"
   ]
  },
  {
   "cell_type": "code",
   "execution_count": 93,
   "id": "b121e5e4",
   "metadata": {},
   "outputs": [],
   "source": [
    "#デバイス数\n",
    "N = 8\n",
    "\n",
    "#1デバイスあたりの学習データ数\n",
    "train_number = 12500\n",
    "#学習時のSNR\n",
    "SNR_train = 20"
   ]
  },
  {
   "cell_type": "code",
   "execution_count": 94,
   "id": "c463a760",
   "metadata": {},
   "outputs": [
    {
     "name": "stderr",
     "output_type": "stream",
     "text": [
      "100%|█████████████████████████████████████████████| 8/8 [00:15<00:00,  1.88s/it]\n"
     ]
    }
   ],
   "source": [
    "#デバイスシンボルの保存リストの初期設定\n",
    "train_data = np.empty((0,4))\n",
    "#デバイス番号の保存リストの初期設定\n",
    "device_number = np.empty(0)\n",
    "\n",
    "#デバイス数だけ繰り返し\n",
    "for i in tqdm.tqdm(range(N)):\n",
    "    #デバイスのシンボル配列を作成\n",
    "    symbols_list = device_symbols(delta[i] , epsilon[i])\n",
    "    \n",
    "    #1デバイスあたりの学習データ数だけ繰り返し\n",
    "    for j in range(train_number):\n",
    "        #雑音の配列を生成し結合\n",
    "        add_noise_list = add_awgn_noise(symbols_list, SNR_train)\n",
    "        \n",
    "        # データの保存\n",
    "        train_data = np.append(train_data,[add_noise_list],axis=0)\n",
    "        device_number = np.append(device_number,[i],axis=0)"
   ]
  },
  {
   "cell_type": "code",
   "execution_count": 95,
   "id": "4e797841",
   "metadata": {},
   "outputs": [
    {
     "data": {
      "text/plain": [
       "((100000, 4),\n",
       " (100000,),\n",
       " array([ 0.87562544+0.9487798j ,  0.64162478-0.39735665j,\n",
       "        -0.67650082+0.31784914j, -0.92032498-0.90100872j]),\n",
       " 0.0)"
      ]
     },
     "execution_count": 95,
     "metadata": {},
     "output_type": "execute_result"
    }
   ],
   "source": [
    "train_data.shape,device_number.shape, train_data[0],device_number[20]"
   ]
  },
  {
   "cell_type": "code",
   "execution_count": 96,
   "id": "7330e96d",
   "metadata": {},
   "outputs": [],
   "source": [
    "#受信語データ保存\n",
    "np.savez(f'train-data(SNR_{SNR_train}).npz', train_data, device_number)"
   ]
  },
  {
   "cell_type": "code",
   "execution_count": null,
   "id": "56a232cb",
   "metadata": {},
   "outputs": [],
   "source": []
  },
  {
   "cell_type": "code",
   "execution_count": null,
   "id": "04d4d74e",
   "metadata": {},
   "outputs": [],
   "source": []
  },
  {
   "cell_type": "code",
   "execution_count": 16,
   "id": "07fff947",
   "metadata": {},
   "outputs": [],
   "source": [
    "#テストデータの生成"
   ]
  },
  {
   "cell_type": "code",
   "execution_count": 17,
   "id": "4e6ddf83",
   "metadata": {},
   "outputs": [],
   "source": [
    "def generate_random_elements(n, lst):\n",
    "    indices = np.random.randint(0, 4, size=n)\n",
    "    result = np.array(lst)[indices]\n",
    "    return result"
   ]
  },
  {
   "cell_type": "code",
   "execution_count": 18,
   "id": "6fe9b1a6",
   "metadata": {},
   "outputs": [],
   "source": [
    "def quadrant_means(complex_list):\n",
    "    # 入力リストをNumPy配列に変換\n",
    "    complex_array = np.array(complex_list)\n",
    "    \n",
    "    # 象限ごとに分類\n",
    "    q1 = complex_array[(complex_array.real >= 0) & (complex_array.imag >= 0)]  # ++\n",
    "    q2 = complex_array[(complex_array.real >= 0) & (complex_array.imag < 0)]   # +-\n",
    "    q3 = complex_array[(complex_array.real < 0) & (complex_array.imag >= 0)]   # -+\n",
    "    q4 = complex_array[(complex_array.real < 0) & (complex_array.imag < 0)]    # --\n",
    "\n",
    "    # 各象限の平均値を計算\n",
    "    mean_q1 = np.mean(q1) if len(q1) > 0 else 0\n",
    "    mean_q2 = np.mean(q2) if len(q2) > 0 else 0\n",
    "    mean_q3 = np.mean(q3) if len(q3) > 0 else 0\n",
    "    mean_q4 = np.mean(q4) if len(q4) > 0 else 0\n",
    "\n",
    "    # 平均値を順に格納した配列を返す\n",
    "    return np.array([mean_q1.real,mean_q1.imag,mean_q2.real,mean_q2.imag,mean_q3.real,mean_q3.imag,mean_q4.real,mean_q4.imag])"
   ]
  },
  {
   "cell_type": "code",
   "execution_count": 19,
   "id": "a404a61b",
   "metadata": {},
   "outputs": [],
   "source": [
    "#1デバイスあたりのテストデータ数\n",
    "train_number = 12500\n",
    "#SNRの設定\n",
    "SNR_first = 10\n",
    "SNR_last = 44\n",
    "SNR_interval = 3\n",
    "#シンボル数\n",
    "symbols = 128"
   ]
  },
  {
   "cell_type": "code",
   "execution_count": 20,
   "id": "871300b7",
   "metadata": {},
   "outputs": [
    {
     "name": "stderr",
     "output_type": "stream",
     "text": [
      "100%|███████████████████████████████████████████| 12/12 [04:10<00:00, 20.86s/it]\n"
     ]
    }
   ],
   "source": [
    "#配列の初期化\n",
    "data = np.empty((0,train_number*N,8))\n",
    "number = np.empty((0,train_number*N,1))\n",
    "#テストデータのSNRの範囲\n",
    "for snr in tqdm.tqdm(range(SNR_first,SNR_last,SNR_interval)):\n",
    "    #デバイスシンボルの保存リストの初期設定\n",
    "    test_data = np.empty((0,8))\n",
    "    #デバイス番号の保存リストの初期設定\n",
    "    device_number = np.empty(0)\n",
    "\n",
    "    #デバイス数だけ繰り返し\n",
    "    for i in range(N):\n",
    "        #デバイスのシンボル配列を作成\n",
    "        symbols_list = device_symbols(delta[i] , epsilon[i])\n",
    "\n",
    "        #1デバイスあたりの学習データ数だけ繰り返し\n",
    "        for j in range(train_number):\n",
    "            # シンボル数だけ要素を生成\n",
    "            symbols_128 = generate_random_elements(symbols, symbols_list)\n",
    "            #雑音の配列を生成し結合\n",
    "            add_noise_list = add_awgn_noise(symbols_list, snr)\n",
    "            \n",
    "            #グループ化と平均化\n",
    "            data_group_and_ave = quadrant_means(add_noise_list)\n",
    "\n",
    "            # データの保存\n",
    "            test_data = np.append(test_data,[data_group_and_ave],axis=0)\n",
    "            device_number = np.append(device_number,[i],axis=0)\n",
    "    \n",
    "    test_data = test_data.reshape((1, len(test_data), len(test_data[0])))\n",
    "    device_number = device_number.reshape((1, len(device_number), 1))\n",
    "    data = np.append(data,test_data,axis=0)\n",
    "    number = np.append(number,device_number,axis=0)"
   ]
  },
  {
   "cell_type": "code",
   "execution_count": 21,
   "id": "d0d100e0",
   "metadata": {},
   "outputs": [
    {
     "data": {
      "text/plain": [
       "((12, 100000, 8), (12, 100000, 1))"
      ]
     },
     "execution_count": 21,
     "metadata": {},
     "output_type": "execute_result"
    }
   ],
   "source": [
    "data.shape, number.shape"
   ]
  },
  {
   "cell_type": "code",
   "execution_count": 22,
   "id": "d3ba0222",
   "metadata": {},
   "outputs": [],
   "source": [
    "#受信語データ保存\n",
    "np.savez(f'test-data_(device-{N})_(SNR_{SNR_first}-{SNR_last}-{SNR_interval}).npz', data, number)"
   ]
  },
  {
   "cell_type": "code",
   "execution_count": 23,
   "id": "cc151496",
   "metadata": {},
   "outputs": [],
   "source": [
    "#テスト用プログラムを作成後テスト"
   ]
  },
  {
   "cell_type": "code",
   "execution_count": 24,
   "id": "a77e96e3",
   "metadata": {},
   "outputs": [],
   "source": [
    "ans_data = np.empty((0,8))\n",
    "\n",
    "for i in range(N):\n",
    "    d = device_symbols(delta[i] , epsilon[i])\n",
    "    ans_data = np.append(ans_data,[[d[0].real,d[0].imag,d[1].real,d[1].imag,d[2].real,d[2].imag,d[3].real,d[3].imag]],axis=0)"
   ]
  },
  {
   "cell_type": "code",
   "execution_count": 25,
   "id": "41c9610d",
   "metadata": {},
   "outputs": [
    {
     "data": {
      "text/plain": [
       "array([[ 0.94187298,  0.79399184,  0.62589051, -0.36747415, -0.62589051,\n",
       "         0.36747415, -0.94187298, -0.79399184],\n",
       "       [ 0.92808284,  0.81440562,  0.59173667, -0.38996287, -0.59173667,\n",
       "         0.38996287, -0.92808284, -0.81440562],\n",
       "       [ 0.97282642,  0.81534432,  0.60507846, -0.29071472, -0.60507846,\n",
       "         0.29071472, -0.97282642, -0.81534432],\n",
       "       [ 1.00470845,  0.75699325,  0.70385752, -0.24293027, -0.70385752,\n",
       "         0.24293027, -1.00470845, -0.75699325],\n",
       "       [ 0.93740059,  0.79779515,  0.61905366, -0.37547926, -0.61905366,\n",
       "         0.37547926, -0.93740059, -0.79779515],\n",
       "       [ 0.98589179,  0.76679725,  0.68098767, -0.28238201, -0.68098767,\n",
       "         0.28238201, -0.98589179, -0.76679725],\n",
       "       [ 0.97366399,  0.77749967,  0.66084735, -0.3052923 , -0.66084735,\n",
       "         0.3052923 , -0.97366399, -0.77749967],\n",
       "       [ 1.00153135,  0.74090572,  0.72216856, -0.25962218, -0.72216856,\n",
       "         0.25962218, -1.00153135, -0.74090572]])"
      ]
     },
     "execution_count": 25,
     "metadata": {},
     "output_type": "execute_result"
    }
   ],
   "source": [
    "ans_data"
   ]
  },
  {
   "cell_type": "code",
   "execution_count": 26,
   "id": "136a007b",
   "metadata": {},
   "outputs": [],
   "source": [
    "#最小二乗法によるユークリッド距離で判定\n",
    "def classify_noise_data(noise_data, ans_data):\n",
    "    # noise_data: shape (8, 1000, 4)\n",
    "    # ans_data: shape (8, 4)\n",
    "    # data_label: shape (8, 1000)\n",
    "    \n",
    "    # Initialize the data_label array\n",
    "    data_label = np.zeros((len(noise_data), len(noise_data[0])), dtype=int)\n",
    "    \n",
    "    # Iterate over each noise type\n",
    "    for i in tqdm.tqdm(range(len(noise_data))):\n",
    "        # Extract the current noise data and ans data\n",
    "        current_noise = noise_data[i]\n",
    "        current_ans = ans_data\n",
    "        \n",
    "        # Compute distances and find the closest ans_data element for each noise sample\n",
    "        for j in range(len(noise_data[0])):\n",
    "            distances = np.linalg.norm(current_noise[j] - current_ans, axis=1)\n",
    "            data_label[i, j] = np.argmin(distances)\n",
    "    \n",
    "    return data_label"
   ]
  },
  {
   "cell_type": "code",
   "execution_count": 27,
   "id": "18775c9d",
   "metadata": {},
   "outputs": [
    {
     "name": "stderr",
     "output_type": "stream",
     "text": [
      "100%|███████████████████████████████████████████| 12/12 [00:10<00:00,  1.18it/s]\n"
     ]
    }
   ],
   "source": [
    "ans_label = classify_noise_data(data, ans_data)"
   ]
  },
  {
   "cell_type": "code",
   "execution_count": 28,
   "id": "86bd47a0",
   "metadata": {},
   "outputs": [
    {
     "data": {
      "text/plain": [
       "(12, 100000)"
      ]
     },
     "execution_count": 28,
     "metadata": {},
     "output_type": "execute_result"
    }
   ],
   "source": [
    "ans_label.shape"
   ]
  },
  {
   "cell_type": "code",
   "execution_count": 29,
   "id": "3880a13d",
   "metadata": {},
   "outputs": [
    {
     "name": "stdout",
     "output_type": "stream",
     "text": [
      "0.80473\n",
      "0.76521\n",
      "0.70815\n",
      "0.63289\n",
      "0.5317\n",
      "0.41665\n",
      "0.296\n",
      "0.1878\n",
      "0.10681\n",
      "0.05695\n",
      "0.02841\n",
      "0.01064\n"
     ]
    }
   ],
   "source": [
    "error_box = np.empty(0)\n",
    "for i in range(len(ans_label)):\n",
    "    error = 0\n",
    "    for j in range(len(ans_label[0])):\n",
    "        if ans_label[i][j] != number[i][j]:\n",
    "            error += 1\n",
    "    \n",
    "    error_box = np.append(error_box,[error],axis=0)\n",
    "    print(error/len(ans_label[0]))"
   ]
  },
  {
   "cell_type": "code",
   "execution_count": 30,
   "id": "c48d85e5",
   "metadata": {},
   "outputs": [
    {
     "data": {
      "text/plain": [
       "(12,)"
      ]
     },
     "execution_count": 30,
     "metadata": {},
     "output_type": "execute_result"
    }
   ],
   "source": [
    "error_box.shape"
   ]
  },
  {
   "cell_type": "code",
   "execution_count": 31,
   "id": "b8eea188",
   "metadata": {},
   "outputs": [],
   "source": [
    "#受信語データ保存\n",
    "np.savez(f'ML_error.npz', error_box)"
   ]
  },
  {
   "cell_type": "code",
   "execution_count": null,
   "id": "41311b5f",
   "metadata": {},
   "outputs": [],
   "source": []
  },
  {
   "cell_type": "code",
   "execution_count": null,
   "id": "466162a0",
   "metadata": {},
   "outputs": [],
   "source": []
  },
  {
   "cell_type": "code",
   "execution_count": 32,
   "id": "d1389631",
   "metadata": {},
   "outputs": [],
   "source": [
    "### one-hotのテスト ###"
   ]
  },
  {
   "cell_type": "code",
   "execution_count": 176,
   "id": "a1333463",
   "metadata": {},
   "outputs": [],
   "source": [
    "import numpy as np\n",
    "import matplotlib.pyplot as plt\n",
    "\n",
    "import tensorflow as tf\n",
    "from tensorflow import keras\n",
    "from tensorflow.keras import layers\n",
    "from tensorflow.keras.utils import to_categorical\n",
    "import tqdm"
   ]
  },
  {
   "cell_type": "code",
   "execution_count": 177,
   "id": "e28d01c2",
   "metadata": {},
   "outputs": [],
   "source": [
    "#受信語データ保存\n",
    "npz = np.load('train-data(SNR_20).npz')\n",
    "\n",
    "#データの格納\n",
    "y_data = npz['arr_0']\n",
    "t_data = npz['arr_1']\n",
    "\n",
    "(train_datas, t_trains) = (y_data, t_data)"
   ]
  },
  {
   "cell_type": "code",
   "execution_count": 178,
   "id": "54d27a5c",
   "metadata": {},
   "outputs": [
    {
     "name": "stderr",
     "output_type": "stream",
     "text": [
      "100%|█████████████████████████████████| 100000/100000 [00:13<00:00, 7368.23it/s]\n"
     ]
    }
   ],
   "source": [
    "y_data = np.empty((0,8))\n",
    "for i in tqdm.tqdm(range(len(train_datas))):\n",
    "    y_data = np.append(y_data,[[train_datas[i][0].real,train_datas[i][0].imag,train_datas[i][1].real,train_datas[i][1].imag,train_datas[i][2].real,train_datas[i][2].imag,train_datas[i][3].real,train_datas[i][3].imag]],axis=0)"
   ]
  },
  {
   "cell_type": "code",
   "execution_count": 179,
   "id": "d06008fc",
   "metadata": {},
   "outputs": [
    {
     "data": {
      "text/plain": [
       "((100000, 8), (100000,))"
      ]
     },
     "execution_count": 179,
     "metadata": {},
     "output_type": "execute_result"
    }
   ],
   "source": [
    "y_data.shape , t_trains.shape"
   ]
  },
  {
   "cell_type": "code",
   "execution_count": 180,
   "id": "2a8cddcf",
   "metadata": {
    "scrolled": true
   },
   "outputs": [
    {
     "name": "stdout",
     "output_type": "stream",
     "text": [
      "Model: \"sequential_12\"\n",
      "_________________________________________________________________\n",
      " Layer (type)                Output Shape              Param #   \n",
      "=================================================================\n",
      " dense_48 (Dense)            (None, 16)                144       \n",
      "                                                                 \n",
      " dense_49 (Dense)            (None, 32)                544       \n",
      "                                                                 \n",
      " dense_50 (Dense)            (None, 16)                528       \n",
      "                                                                 \n",
      " dense_51 (Dense)            (None, 8)                 136       \n",
      "                                                                 \n",
      "=================================================================\n",
      "Total params: 1,352\n",
      "Trainable params: 1,352\n",
      "Non-trainable params: 0\n",
      "_________________________________________________________________\n",
      "Epoch 1/30\n",
      "3125/3125 [==============================] - 3s 962us/step - loss: 2.0624 - accuracy: 0.1689\n",
      "Epoch 2/30\n",
      "3125/3125 [==============================] - 4s 1ms/step - loss: 1.7328 - accuracy: 0.2860\n",
      "Epoch 3/30\n",
      "3125/3125 [==============================] - 3s 965us/step - loss: 1.5218 - accuracy: 0.3373\n",
      "Epoch 4/30\n",
      "3125/3125 [==============================] - 2s 584us/step - loss: 1.4721 - accuracy: 0.3722\n",
      "Epoch 5/30\n",
      "3125/3125 [==============================] - 2s 630us/step - loss: 1.4402 - accuracy: 0.3862\n",
      "Epoch 6/30\n",
      "3125/3125 [==============================] - 2s 544us/step - loss: 1.4367 - accuracy: 0.3899\n",
      "Epoch 7/30\n",
      "3125/3125 [==============================] - 2s 496us/step - loss: 1.4348 - accuracy: 0.3899\n",
      "Epoch 8/30\n",
      "3125/3125 [==============================] - 2s 504us/step - loss: 1.4324 - accuracy: 0.3904\n",
      "Epoch 9/30\n",
      "3125/3125 [==============================] - 2s 504us/step - loss: 1.4316 - accuracy: 0.3905\n",
      "Epoch 10/30\n",
      "3125/3125 [==============================] - 2s 493us/step - loss: 1.4310 - accuracy: 0.3909\n",
      "Epoch 11/30\n",
      "3125/3125 [==============================] - 2s 515us/step - loss: 1.4303 - accuracy: 0.3912\n",
      "Epoch 12/30\n",
      "3125/3125 [==============================] - 2s 520us/step - loss: 1.4300 - accuracy: 0.3918\n",
      "Epoch 13/30\n",
      "3125/3125 [==============================] - 2s 501us/step - loss: 1.4296 - accuracy: 0.3920\n",
      "Epoch 14/30\n",
      "3125/3125 [==============================] - 2s 547us/step - loss: 1.4289 - accuracy: 0.3925\n",
      "Epoch 15/30\n",
      "3125/3125 [==============================] - 2s 514us/step - loss: 1.4286 - accuracy: 0.3914\n",
      "Epoch 16/30\n",
      "3125/3125 [==============================] - 2s 513us/step - loss: 1.4281 - accuracy: 0.3926\n",
      "Epoch 17/30\n",
      "3125/3125 [==============================] - 2s 511us/step - loss: 1.4282 - accuracy: 0.3926\n",
      "Epoch 18/30\n",
      "3125/3125 [==============================] - 2s 512us/step - loss: 1.4273 - accuracy: 0.3932\n",
      "Epoch 19/30\n",
      "3125/3125 [==============================] - 2s 510us/step - loss: 1.4274 - accuracy: 0.3932\n",
      "Epoch 20/30\n",
      "3125/3125 [==============================] - 2s 513us/step - loss: 1.4272 - accuracy: 0.3923\n",
      "Epoch 21/30\n",
      "3125/3125 [==============================] - 2s 531us/step - loss: 1.4268 - accuracy: 0.3931\n",
      "Epoch 22/30\n",
      "3125/3125 [==============================] - 2s 529us/step - loss: 1.4271 - accuracy: 0.3924\n",
      "Epoch 23/30\n",
      "3125/3125 [==============================] - 2s 515us/step - loss: 1.4268 - accuracy: 0.3922\n",
      "Epoch 24/30\n",
      "3125/3125 [==============================] - 2s 511us/step - loss: 1.4263 - accuracy: 0.3937\n",
      "Epoch 25/30\n",
      "3125/3125 [==============================] - 2s 508us/step - loss: 1.4264 - accuracy: 0.3930\n",
      "Epoch 26/30\n",
      "3125/3125 [==============================] - 2s 513us/step - loss: 1.4264 - accuracy: 0.3918\n",
      "Epoch 27/30\n",
      "3125/3125 [==============================] - 2s 527us/step - loss: 1.4262 - accuracy: 0.3924\n",
      "Epoch 28/30\n",
      "3125/3125 [==============================] - 2s 511us/step - loss: 1.4265 - accuracy: 0.3923\n",
      "Epoch 29/30\n",
      "3125/3125 [==============================] - 2s 497us/step - loss: 1.4261 - accuracy: 0.3933\n",
      "Epoch 30/30\n",
      "3125/3125 [==============================] - 2s 511us/step - loss: 1.4262 - accuracy: 0.3917\n"
     ]
    }
   ],
   "source": [
    "#モデル構築 出力128のパターン\n",
    "model = tf.keras.Sequential([\n",
    "    layers.InputLayer(input_shape=(8, )),\n",
    "    layers.Dense(16, activation='relu'),\n",
    "    layers.Dense(32, activation='relu'),\n",
    "    layers.Dense(16, activation='relu'),\n",
    "    layers.Dense(8, activation='softmax')\n",
    "])\n",
    "\n",
    "#モデル確認\n",
    "model.summary()\n",
    "\n",
    "#訓練(学習)プロセスの設定\n",
    "model.compile(optimizer=tf.keras.optimizers.SGD(0.01),\n",
    "              loss='sparse_categorical_crossentropy',\n",
    "              metrics=['accuracy'])\n",
    "\n",
    "#訓練(学習)の実行\n",
    "history = model.fit(y_data, t_trains, epochs=30, batch_size = 32)"
   ]
  },
  {
   "cell_type": "code",
   "execution_count": 181,
   "id": "c5feccc2",
   "metadata": {},
   "outputs": [
    {
     "data": {
      "image/png": "[encoded data removed]",
      "text/plain": [
       "<Figure size 640x480 with 1 Axes>"
      ]
     },
     "metadata": {},
     "output_type": "display_data"
    }
   ],
   "source": [
    "plt.plot(history.history['loss'])\n",
    "plt.title('Model loss')\n",
    "plt.ylabel('Loss')\n",
    "plt.xlabel('Epoch')\n",
    "plt.yscale('log')\n",
    "plt.show()"
   ]
  },
  {
   "cell_type": "code",
   "execution_count": 182,
   "id": "18a3d950",
   "metadata": {},
   "outputs": [],
   "source": [
    "#データの呼び出し\n",
    "npz = np.load('test-data_(device-8)_(SNR_10-44-3).npz')\n",
    "\n",
    "#データの格納\n",
    "y_data = npz['arr_0']\n",
    "t_data = npz['arr_1']\n",
    "\n",
    "(test_datas, t_tests) = (y_data, t_data)"
   ]
  },
  {
   "cell_type": "code",
   "execution_count": 183,
   "id": "ada0a4ea",
   "metadata": {},
   "outputs": [
    {
     "data": {
      "text/plain": [
       "((12, 100000, 8), (12, 100000, 1))"
      ]
     },
     "execution_count": 183,
     "metadata": {},
     "output_type": "execute_result"
    }
   ],
   "source": [
    "test_datas.shape , t_tests.shape"
   ]
  },
  {
   "cell_type": "code",
   "execution_count": 184,
   "id": "36085a14",
   "metadata": {},
   "outputs": [
    {
     "name": "stderr",
     "output_type": "stream",
     "text": [
      "100%|███████████████████████████████████████████| 12/12 [00:16<00:00,  1.35s/it]\n"
     ]
    }
   ],
   "source": [
    "#テスト(予測)\n",
    "\n",
    "SER = np.empty((0, 1))\n",
    "ACC = np.empty((0, 1))\n",
    "answer = np.empty((12, len(y_data[0]), 8))\n",
    "\n",
    "for i in tqdm.tqdm(range(len(test_datas))):\n",
    "    error=0\n",
    "    answer[i] = model.predict(y_data[i])\n",
    "        \n",
    "    for j in range(int(len(y_data[1]))):\n",
    "        if np.argmax(answer[i][j]) != t_tests[i][j]:\n",
    "            error+=1\n",
    "            \n",
    "    SER = np.append(SER, error/(len(y_data[0])))\n"
   ]
  },
  {
   "cell_type": "code",
   "execution_count": 185,
   "id": "9697b268",
   "metadata": {},
   "outputs": [
    {
     "data": {
      "text/plain": [
       "array([0.80717, 0.76615, 0.70997, 0.63809, 0.54877, 0.45014, 0.3576 ,\n",
       "       0.28531, 0.24002, 0.22222, 0.22213, 0.2327 ])"
      ]
     },
     "execution_count": 185,
     "metadata": {},
     "output_type": "execute_result"
    }
   ],
   "source": [
    "SER"
   ]
  },
  {
   "cell_type": "code",
   "execution_count": 186,
   "id": "e7fd9911",
   "metadata": {},
   "outputs": [],
   "source": [
    "#受信語データ保存\n",
    "np.savez(f'Onehot_result_20-5.npz', SER)"
   ]
  },
  {
   "cell_type": "code",
   "execution_count": null,
   "id": "5e3be5ce",
   "metadata": {},
   "outputs": [],
   "source": []
  }
 ],
 "metadata": {
  "kernelspec": {
   "display_name": "Python 3 (ipykernel)",
   "language": "python",
   "name": "python3"
  },
  "language_info": {
   "codemirror_mode": {
    "name": "ipython",
    "version": 3
   },
   "file_extension": ".py",
   "mimetype": "text/x-python",
   "name": "python",
   "nbconvert_exporter": "python",
   "pygments_lexer": "ipython3",
   "version": "3.9.13"
  }
 },
 "nbformat": 4,
 "nbformat_minor": 5
}
